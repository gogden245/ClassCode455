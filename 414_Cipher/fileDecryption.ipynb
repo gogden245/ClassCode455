{
  "cells": [
    {
      "cell_type": "code",
      "execution_count": 3,
      "metadata": {},
      "outputs": [
        {
          "ename": "ModuleNotFoundError",
          "evalue": "No module named 'Crypto'",
          "output_type": "error",
          "traceback": [
            "\u001b[0;31m---------------------------------------------------------------------------\u001b[0m",
            "\u001b[0;31mModuleNotFoundError\u001b[0m                       Traceback (most recent call last)",
            "Cell \u001b[0;32mIn[3], line 1\u001b[0m\n\u001b[0;32m----> 1\u001b[0m \u001b[38;5;28;01mfrom\u001b[39;00m \u001b[38;5;21;01mCrypto\u001b[39;00m\u001b[38;5;21;01m.\u001b[39;00m\u001b[38;5;21;01mCipher\u001b[39;00m \u001b[38;5;28;01mimport\u001b[39;00m ChaCha20\n\u001b[1;32m      2\u001b[0m \u001b[38;5;28;01mfrom\u001b[39;00m \u001b[38;5;21;01mCrypto\u001b[39;00m\u001b[38;5;21;01m.\u001b[39;00m\u001b[38;5;21;01mProtocol\u001b[39;00m\u001b[38;5;21;01m.\u001b[39;00m\u001b[38;5;21;01mKDF\u001b[39;00m \u001b[38;5;28;01mimport\u001b[39;00m PBKDF2\n\u001b[1;32m      3\u001b[0m \u001b[38;5;28;01mfrom\u001b[39;00m \u001b[38;5;21;01mCrypto\u001b[39;00m\u001b[38;5;21;01m.\u001b[39;00m\u001b[38;5;21;01mHash\u001b[39;00m \u001b[38;5;28;01mimport\u001b[39;00m SHA256\n",
            "\u001b[0;31mModuleNotFoundError\u001b[0m: No module named 'Crypto'"
          ]
        }
      ],
      "source": [
        "from Crypto.Cipher import ChaCha20\n",
        "from Crypto.Protocol.KDF import PBKDF2\n",
        "from Crypto.Hash import SHA256\n",
        "from Crypto.Random import get_random_bytes\n",
        "import os\n",
        "\n",
        "def decrypt_file(input_file, output_file, password):\n",
        "    # Derive key from password using SHA256\n",
        "    key = PBKDF2(password, b'', 32, count=1000000, hmac_hash_module=SHA256)\n",
        "\n",
        "    # Initialize ChaCha20 cipher with key and nonce\n",
        "    cipher = ChaCha20.new(key=key, nonce=b'abcdefgh')\n",
        "\n",
        "    # Read encrypted data from input file\n",
        "    with open(input_file, 'rb') as f:\n",
        "        ciphertext = f.read()\n",
        "\n",
        "    # Decrypt data\n",
        "    plaintext = cipher.decrypt(ciphertext)\n",
        "\n",
        "    # Write decrypted data to output file\n",
        "    with open(output_file, 'wb') as f:\n",
        "        f.write(plaintext)\n",
        "\n",
        "if __name__ == \"__main__\":\n",
        "    # Path to encrypted file and output file\n",
        "    input_file = 'PO-encrypted.pdf'\n",
        "    output_file = 'PO-decrypted.pdf'\n",
        "\n",
        "    # Password used for encryption\n",
        "    password = 'whodrinksroots'\n",
        "\n",
        "    # Decrypt the file\n",
        "    decrypt_file(input_file, output_file, password)\n",
        "\n",
        "    print(f\"File decrypted successfully. Decrypted file saved as '{output_file}'.\")\n"
      ]
    }
  ],
  "metadata": {
    "kernelspec": {
      "display_name": "Python 3",
      "language": "python",
      "name": "python3"
    },
    "language_info": {
      "codemirror_mode": {
        "name": "ipython",
        "version": 3
      },
      "file_extension": ".py",
      "mimetype": "text/x-python",
      "name": "python",
      "nbconvert_exporter": "python",
      "pygments_lexer": "ipython3",
      "version": "3.11.7"
    }
  },
  "nbformat": 4,
  "nbformat_minor": 2
}
